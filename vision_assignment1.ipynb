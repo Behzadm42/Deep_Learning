{
  "nbformat": 4,
  "nbformat_minor": 0,
  "metadata": {
    "colab": {
      "provenance": []
    },
    "kernelspec": {
      "name": "python3",
      "display_name": "Python 3"
    },
    "language_info": {
      "name": "python"
    },
    "accelerator": "GPU"
  },
  "cells": [
    {
      "cell_type": "markdown",
      "source": [
        "# **Deep learning network design and training**"
      ],
      "metadata": {
        "id": "xoqmwOa_dUPH"
      }
    },
    {
      "cell_type": "markdown",
      "source": [
        "## Feed forward fully connected network"
      ],
      "metadata": {
        "id": "_2VwKxaQzDcY"
      }
    },
    {
      "cell_type": "markdown",
      "source": [
        "### Import modules :"
      ],
      "metadata": {
        "id": "NlmXzNxDgu8f"
      }
    },
    {
      "cell_type": "code",
      "source": [
        "import tensorflow as tf\n",
        "import matplotlib.pyplot as plt"
      ],
      "metadata": {
        "id": "0AfV7SPRg0f6"
      },
      "execution_count": null,
      "outputs": []
    },
    {
      "cell_type": "markdown",
      "source": [
        "### Load and Prepare **mnist** dataset :"
      ],
      "metadata": {
        "id": "WA0_R47ogZLa"
      }
    },
    {
      "cell_type": "code",
      "source": [
        "#Here load mnist dataset and split them on x_train,y_train,x_test,y_test\n",
        "\n",
        "dataset=tf.keras.datasets.mnist\n",
        "### START CODE HERE ###  \n",
        "(x_train,y_train),(x_test,y_test)=dataset.load_data()\n",
        "### END CODE HERE ### \n",
        "\n",
        "# Show an example\n",
        "plt.imshow(x_train[10],cmap='gray')\n",
        "y_train[10]"
      ],
      "metadata": {
        "id": "cAPNCfpSghWv",
        "colab": {
          "base_uri": "https://localhost:8080/",
          "height": 282
        },
        "outputId": "8fed3ea8-d8aa-4773-9c2a-7cb75e4bd44d"
      },
      "execution_count": null,
      "outputs": [
        {
          "output_type": "execute_result",
          "data": {
            "text/plain": [
              "3"
            ]
          },
          "metadata": {},
          "execution_count": 5
        },
        {
          "output_type": "display_data",
          "data": {
            "text/plain": [
              "<Figure size 432x288 with 1 Axes>"
            ],
            "image/png": "[encoded data removed]"
          },
          "metadata": {
            "needs_background": "light"
          }
        }
      ]
    },
    {
      "cell_type": "code",
      "source": [
        "print(x_train.shape)"
      ],
      "metadata": {
        "id": "ehfDqHdbx8Nr",
        "colab": {
          "base_uri": "https://localhost:8080/"
        },
        "outputId": "05213896-d015-4da1-b9c7-8f3e82e19f8d"
      },
      "execution_count": null,
      "outputs": [
        {
          "output_type": "stream",
          "name": "stdout",
          "text": [
            "(60000, 28, 28)\n"
          ]
        }
      ]
    },
    {
      "cell_type": "code",
      "source": [
        "#Reshape x_train for network input\n",
        "### START CODE HERE ###  \n",
        "x_train=x_train.reshape(60000, 784).astype(\"float32\")/255\n",
        "x_test=x_test.reshape(10000, 784).astype(\"float32\")/255\n",
        "y_train=y_train.astype(\"float32\")\n",
        "y_tets=y_test.astype(\"float32\")\n",
        "### END CODE HERE ### \n",
        "\n",
        "\n",
        "print(x_train.shape)"
      ],
      "metadata": {
        "id": "ATGR1F-gsYBD",
        "colab": {
          "base_uri": "https://localhost:8080/"
        },
        "outputId": "e7b6cab9-4541-4d99-8665-1b5d9eea0150"
      },
      "execution_count": null,
      "outputs": [
        {
          "output_type": "stream",
          "name": "stdout",
          "text": [
            "(60000, 784)\n"
          ]
        }
      ]
    },
    {
      "cell_type": "code",
      "source": [
        "x_val=x_train[-10000:]\n",
        "y_val=y_train[-10000:]\n",
        "x_train=x_train[:-10000]\n",
        "y_train=y_train[:-10000]\n",
        "\n",
        "print(x_train.shape)"
      ],
      "metadata": {
        "colab": {
          "base_uri": "https://localhost:8080/"
        },
        "id": "MBu0izD0gRUd",
        "outputId": "7ec23f1c-7bfe-4f32-f3d0-05f796553a11"
      },
      "execution_count": null,
      "outputs": [
        {
          "output_type": "stream",
          "name": "stdout",
          "text": [
            "(50000, 784)\n"
          ]
        }
      ]
    },
    {
      "cell_type": "markdown",
      "source": [
        "### **Design** and **train** feed forward fully connected network :\n"
      ],
      "metadata": {
        "id": "41LsUExrlfgt"
      }
    },
    {
      "cell_type": "code",
      "source": [
        "#Design a model\n",
        "model=tf.keras.models.Sequential([\n",
        "  ### START CODE HERE ###  \n",
        "  tf.keras.layers.Dense(256, activation='relu',input_shape=(784,)),\n",
        "  tf.keras.layers.Dense(128,activation='relu'),\n",
        "  tf.keras.layers.Dense(64,activation='relu'),\n",
        "  tf.keras.layers.Dense(10,activation='Softmax')\n",
        "  ### END CODE HERE ### \n",
        "])\n",
        "model.summary()"
      ],
      "metadata": {
        "id": "YTDHcwCNmLr7",
        "colab": {
          "base_uri": "https://localhost:8080/"
        },
        "outputId": "b1ba9407-0d06-4dbd-9d3a-c8a2fb44d033"
      },
      "execution_count": null,
      "outputs": [
        {
          "output_type": "stream",
          "name": "stdout",
          "text": [
            "Model: \"sequential\"\n",
            "_________________________________________________________________\n",
            " Layer (type)                Output Shape              Param #   \n",
            "=================================================================\n",
            " dense (Dense)               (None, 256)               200960    \n",
            "                                                                 \n",
            " dense_1 (Dense)             (None, 128)               32896     \n",
            "                                                                 \n",
            " dense_2 (Dense)             (None, 64)                8256      \n",
            "                                                                 \n",
            " dense_3 (Dense)             (None, 10)                650       \n",
            "                                                                 \n",
            "=================================================================\n",
            "Total params: 242,762\n",
            "Trainable params: 242,762\n",
            "Non-trainable params: 0\n",
            "_________________________________________________________________\n"
          ]
        }
      ]
    },
    {
      "cell_type": "code",
      "source": [
        "from tensorflow.python.ops import losses\n",
        "#Compile your model\n",
        "model.compile(### START CODE HERE ### \n",
        "              optimizer='rmsprop',\n",
        "              loss=tf.keras.losses.SparseCategoricalCrossentropy(from_logits=True),\n",
        "              metrics=['accuracy']\n",
        "                \n",
        "              ### END CODE HERE ### \n",
        "              )\n"
      ],
      "metadata": {
        "id": "ABLnz0bNqm-j"
      },
      "execution_count": null,
      "outputs": []
    },
    {
      "cell_type": "code",
      "source": [
        "#Finally train\n",
        "model.fit(\n",
        "  ### START CODE HERE ###  \n",
        "  x_train,y_train,epochs=50,batch_size=64,validation_data=(x_val,y_val)\n",
        "  ### END CODE HERE ### \n",
        "  )\n",
        "\n"
      ],
      "metadata": {
        "id": "lPvCtMveqmuS",
        "colab": {
          "base_uri": "https://localhost:8080/"
        },
        "outputId": "ae618830-56dc-4a8a-e6d6-92546af2570a"
      },
      "execution_count": null,
      "outputs": [
        {
          "output_type": "stream",
          "name": "stdout",
          "text": [
            "Epoch 1/50\n",
            "782/782 [==============================] - 5s 6ms/step - loss: 1.5920 - accuracy: 0.8774 - val_loss: 1.5482 - val_accuracy: 0.9166\n",
            "Epoch 2/50\n",
            "782/782 [==============================] - 3s 4ms/step - loss: 1.5129 - accuracy: 0.9498 - val_loss: 1.5025 - val_accuracy: 0.9596\n",
            "Epoch 3/50\n",
            "782/782 [==============================] - 3s 4ms/step - loss: 1.5006 - accuracy: 0.9613 - val_loss: 1.4984 - val_accuracy: 0.9632\n",
            "Epoch 4/50\n",
            "782/782 [==============================] - 4s 5ms/step - loss: 1.4943 - accuracy: 0.9669 - val_loss: 1.4943 - val_accuracy: 0.9674\n",
            "Epoch 5/50\n",
            "782/782 [==============================] - 3s 4ms/step - loss: 1.4896 - accuracy: 0.9717 - val_loss: 1.4909 - val_accuracy: 0.9703\n",
            "Epoch 6/50\n",
            "782/782 [==============================] - 4s 5ms/step - loss: 1.4863 - accuracy: 0.9750 - val_loss: 1.4916 - val_accuracy: 0.9693\n",
            "Epoch 7/50\n",
            "782/782 [==============================] - 4s 5ms/step - loss: 1.4841 - accuracy: 0.9773 - val_loss: 1.4915 - val_accuracy: 0.9695\n",
            "Epoch 8/50\n",
            "782/782 [==============================] - 4s 5ms/step - loss: 1.4830 - accuracy: 0.9782 - val_loss: 1.4851 - val_accuracy: 0.9763\n",
            "Epoch 9/50\n",
            "782/782 [==============================] - 3s 4ms/step - loss: 1.4812 - accuracy: 0.9797 - val_loss: 1.4861 - val_accuracy: 0.9755\n",
            "Epoch 10/50\n",
            "782/782 [==============================] - 3s 4ms/step - loss: 1.4806 - accuracy: 0.9805 - val_loss: 1.4877 - val_accuracy: 0.9729\n",
            "Epoch 11/50\n",
            "782/782 [==============================] - 3s 4ms/step - loss: 1.4783 - accuracy: 0.9829 - val_loss: 1.4910 - val_accuracy: 0.9702\n",
            "Epoch 12/50\n",
            "782/782 [==============================] - 3s 4ms/step - loss: 1.4776 - accuracy: 0.9837 - val_loss: 1.4865 - val_accuracy: 0.9748\n",
            "Epoch 13/50\n",
            "782/782 [==============================] - 3s 4ms/step - loss: 1.4770 - accuracy: 0.9844 - val_loss: 1.4839 - val_accuracy: 0.9774\n",
            "Epoch 14/50\n",
            "782/782 [==============================] - 3s 4ms/step - loss: 1.4759 - accuracy: 0.9853 - val_loss: 1.4847 - val_accuracy: 0.9764\n",
            "Epoch 15/50\n",
            "782/782 [==============================] - 3s 4ms/step - loss: 1.4750 - accuracy: 0.9863 - val_loss: 1.4860 - val_accuracy: 0.9753\n",
            "Epoch 16/50\n",
            "782/782 [==============================] - 3s 4ms/step - loss: 1.4746 - accuracy: 0.9865 - val_loss: 1.4853 - val_accuracy: 0.9759\n",
            "Epoch 17/50\n",
            "782/782 [==============================] - 3s 4ms/step - loss: 1.4756 - accuracy: 0.9857 - val_loss: 1.4871 - val_accuracy: 0.9739\n",
            "Epoch 18/50\n",
            "782/782 [==============================] - 3s 4ms/step - loss: 1.4736 - accuracy: 0.9875 - val_loss: 1.4861 - val_accuracy: 0.9753\n",
            "Epoch 19/50\n",
            "782/782 [==============================] - 3s 4ms/step - loss: 1.4734 - accuracy: 0.9878 - val_loss: 1.4847 - val_accuracy: 0.9767\n",
            "Epoch 20/50\n",
            "782/782 [==============================] - 3s 4ms/step - loss: 1.4732 - accuracy: 0.9880 - val_loss: 1.4854 - val_accuracy: 0.9754\n",
            "Epoch 21/50\n",
            "782/782 [==============================] - 3s 4ms/step - loss: 1.4730 - accuracy: 0.9882 - val_loss: 1.4850 - val_accuracy: 0.9762\n",
            "Epoch 22/50\n",
            "782/782 [==============================] - 3s 4ms/step - loss: 1.4723 - accuracy: 0.9889 - val_loss: 1.4848 - val_accuracy: 0.9760\n",
            "Epoch 23/50\n",
            "782/782 [==============================] - 3s 4ms/step - loss: 1.4718 - accuracy: 0.9893 - val_loss: 1.4842 - val_accuracy: 0.9766\n",
            "Epoch 24/50\n",
            "782/782 [==============================] - 3s 4ms/step - loss: 1.4713 - accuracy: 0.9899 - val_loss: 1.4833 - val_accuracy: 0.9779\n",
            "Epoch 25/50\n",
            "782/782 [==============================] - 3s 4ms/step - loss: 1.4707 - accuracy: 0.9905 - val_loss: 1.4835 - val_accuracy: 0.9775\n",
            "Epoch 26/50\n",
            "782/782 [==============================] - 3s 4ms/step - loss: 1.4704 - accuracy: 0.9907 - val_loss: 1.4824 - val_accuracy: 0.9791\n",
            "Epoch 27/50\n",
            "782/782 [==============================] - 3s 4ms/step - loss: 1.4706 - accuracy: 0.9904 - val_loss: 1.4850 - val_accuracy: 0.9759\n",
            "Epoch 28/50\n",
            "782/782 [==============================] - 3s 4ms/step - loss: 1.4701 - accuracy: 0.9911 - val_loss: 1.4827 - val_accuracy: 0.9784\n",
            "Epoch 29/50\n",
            "782/782 [==============================] - 3s 4ms/step - loss: 1.4698 - accuracy: 0.9913 - val_loss: 1.4844 - val_accuracy: 0.9765\n",
            "Epoch 30/50\n",
            "782/782 [==============================] - 3s 4ms/step - loss: 1.4702 - accuracy: 0.9909 - val_loss: 1.4842 - val_accuracy: 0.9768\n",
            "Epoch 31/50\n",
            "782/782 [==============================] - 3s 4ms/step - loss: 1.4698 - accuracy: 0.9914 - val_loss: 1.4850 - val_accuracy: 0.9762\n",
            "Epoch 32/50\n",
            "782/782 [==============================] - 3s 4ms/step - loss: 1.4693 - accuracy: 0.9918 - val_loss: 1.4839 - val_accuracy: 0.9771\n",
            "Epoch 33/50\n",
            "782/782 [==============================] - 3s 4ms/step - loss: 1.4690 - accuracy: 0.9921 - val_loss: 1.4827 - val_accuracy: 0.9784\n",
            "Epoch 34/50\n",
            "782/782 [==============================] - 3s 4ms/step - loss: 1.4689 - accuracy: 0.9923 - val_loss: 1.4820 - val_accuracy: 0.9793\n",
            "Epoch 35/50\n",
            "782/782 [==============================] - 3s 4ms/step - loss: 1.4689 - accuracy: 0.9923 - val_loss: 1.4823 - val_accuracy: 0.9789\n",
            "Epoch 36/50\n",
            "782/782 [==============================] - 3s 4ms/step - loss: 1.4683 - accuracy: 0.9929 - val_loss: 1.4827 - val_accuracy: 0.9782\n",
            "Epoch 37/50\n",
            "782/782 [==============================] - 3s 4ms/step - loss: 1.4683 - accuracy: 0.9929 - val_loss: 1.4826 - val_accuracy: 0.9785\n",
            "Epoch 38/50\n",
            "782/782 [==============================] - 3s 4ms/step - loss: 1.4684 - accuracy: 0.9928 - val_loss: 1.4829 - val_accuracy: 0.9781\n",
            "Epoch 39/50\n",
            "782/782 [==============================] - 3s 4ms/step - loss: 1.4680 - accuracy: 0.9931 - val_loss: 1.4822 - val_accuracy: 0.9791\n",
            "Epoch 40/50\n",
            "782/782 [==============================] - 4s 4ms/step - loss: 1.4682 - accuracy: 0.9929 - val_loss: 1.4825 - val_accuracy: 0.9787\n",
            "Epoch 41/50\n",
            "782/782 [==============================] - 3s 4ms/step - loss: 1.4676 - accuracy: 0.9935 - val_loss: 1.4829 - val_accuracy: 0.9784\n",
            "Epoch 42/50\n",
            "782/782 [==============================] - 3s 4ms/step - loss: 1.4683 - accuracy: 0.9928 - val_loss: 1.4843 - val_accuracy: 0.9768\n",
            "Epoch 43/50\n",
            "782/782 [==============================] - 3s 4ms/step - loss: 1.4684 - accuracy: 0.9928 - val_loss: 1.4827 - val_accuracy: 0.9784\n",
            "Epoch 44/50\n",
            "782/782 [==============================] - 3s 4ms/step - loss: 1.4674 - accuracy: 0.9937 - val_loss: 1.4817 - val_accuracy: 0.9794\n",
            "Epoch 45/50\n",
            "782/782 [==============================] - 3s 4ms/step - loss: 1.4676 - accuracy: 0.9935 - val_loss: 1.4842 - val_accuracy: 0.9768\n",
            "Epoch 46/50\n",
            "782/782 [==============================] - 4s 5ms/step - loss: 1.4678 - accuracy: 0.9933 - val_loss: 1.4815 - val_accuracy: 0.9795\n",
            "Epoch 47/50\n",
            "782/782 [==============================] - 3s 4ms/step - loss: 1.4672 - accuracy: 0.9940 - val_loss: 1.4831 - val_accuracy: 0.9780\n",
            "Epoch 48/50\n",
            "782/782 [==============================] - 4s 4ms/step - loss: 1.4675 - accuracy: 0.9937 - val_loss: 1.4853 - val_accuracy: 0.9755\n",
            "Epoch 49/50\n",
            "782/782 [==============================] - 3s 4ms/step - loss: 1.4673 - accuracy: 0.9939 - val_loss: 1.4808 - val_accuracy: 0.9806\n",
            "Epoch 50/50\n",
            "782/782 [==============================] - 4s 5ms/step - loss: 1.4670 - accuracy: 0.9942 - val_loss: 1.4816 - val_accuracy: 0.9792\n"
          ]
        },
        {
          "output_type": "execute_result",
          "data": {
            "text/plain": [
              "<keras.callbacks.History at 0x7f758442d9d0>"
            ]
          },
          "metadata": {},
          "execution_count": 11
        }
      ]
    },
    {
      "cell_type": "code",
      "source": [
        "loss, acc = model.evaluate(x_test, y_test)\n",
        "print('\\nTesting loss: %.2f, acc: %.2f%%'%(loss, acc))"
      ],
      "metadata": {
        "colab": {
          "base_uri": "https://localhost:8080/"
        },
        "id": "Cbt7xuRMd7_7",
        "outputId": "9443a925-d246-4128-bae6-46831fc3ed94"
      },
      "execution_count": null,
      "outputs": [
        {
          "output_type": "stream",
          "name": "stdout",
          "text": [
            "313/313 [==============================] - 1s 2ms/step - loss: 1.4811 - accuracy: 0.9800\n",
            "\n",
            "Testing loss: 1.48, acc: 0.98%\n"
          ]
        }
      ]
    },
    {
      "cell_type": "markdown",
      "source": [
        "## Fully connected **CNN** based network "
      ],
      "metadata": {
        "id": "PjC3YjFXpIWU"
      }
    },
    {
      "cell_type": "markdown",
      "source": [
        "### Load and Prepare **fashion mnist** dataset :"
      ],
      "metadata": {
        "id": "cWSvnKfMzqlZ"
      }
    },
    {
      "cell_type": "code",
      "source": [
        "import tensorflow as tf\n",
        "import matplotlib.pyplot as plt"
      ],
      "metadata": {
        "id": "pH1mkxN69o5D"
      },
      "execution_count": null,
      "outputs": []
    },
    {
      "cell_type": "code",
      "source": [
        "#Here load fashion mnist dataset and split them on x_train,y_train,x_test,y_test\n",
        "\n",
        "dataset=tf.keras.datasets.fashion_mnist\n",
        "\n",
        "\n",
        "### START CODE HERE ###  \n",
        "(x_train,y_train),(x_test,y_test)=dataset.load_data()\n",
        "\n",
        "### END CODE HERE ### \n",
        "\n",
        "# Show an example\n",
        "plt.imshow(x_train[5],cmap='gray')\n",
        "y_train[5]\n"
      ],
      "metadata": {
        "id": "qbzygL_FqKM5",
        "colab": {
          "base_uri": "https://localhost:8080/",
          "height": 282
        },
        "outputId": "3b51db81-5326-4437-f2bb-fdc6f46cac63"
      },
      "execution_count": null,
      "outputs": [
        {
          "output_type": "execute_result",
          "data": {
            "text/plain": [
              "2"
            ]
          },
          "metadata": {},
          "execution_count": 90
        },
        {
          "output_type": "display_data",
          "data": {
            "text/plain": [
              "<Figure size 432x288 with 1 Axes>"
            ],
            "image/png": "[encoded data removed]"
          },
          "metadata": {
            "needs_background": "light"
          }
        }
      ]
    },
    {
      "cell_type": "code",
      "source": [
        "print(x_train.shape)\n",
        "print(y_train.shape)\n"
      ],
      "metadata": {
        "id": "79KtI0snzgmJ",
        "colab": {
          "base_uri": "https://localhost:8080/"
        },
        "outputId": "261c6bfa-8b8b-4411-bbc4-47cd70079fac"
      },
      "execution_count": null,
      "outputs": [
        {
          "output_type": "stream",
          "name": "stdout",
          "text": [
            "(60000, 28, 28)\n",
            "(60000,)\n"
          ]
        }
      ]
    },
    {
      "cell_type": "code",
      "source": [
        "#Reshape x_train for network input\n",
        "### START CODE HERE ###  \n",
        "x_train=x_train.astype(\"float32\")/255\n",
        "x_test=x_test.astype(\"float32\")/255\n",
        "x_train = x_train.reshape(-1,28,28,1)\n",
        "x_test = x_test.reshape(-1,28,28,1)\n",
        "\n",
        "y_train=tf.keras.utils.to_categorical( y_train, dtype='float32')\n",
        "y_test=tf.keras.utils.to_categorical(  y_test, dtype='float32')\n",
        "### END CODE HERE ### \n",
        "print(x_train.shape)\n",
        "print(y_train.shape)"
      ],
      "metadata": {
        "id": "2XrZUh2jzYKZ",
        "colab": {
          "base_uri": "https://localhost:8080/"
        },
        "outputId": "b7e8fb03-01de-4ede-8b87-0be196244010"
      },
      "execution_count": null,
      "outputs": [
        {
          "output_type": "stream",
          "name": "stdout",
          "text": [
            "(60000, 28, 28, 1)\n",
            "(60000, 10)\n"
          ]
        }
      ]
    },
    {
      "cell_type": "markdown",
      "source": [
        "### **Design** and **train** fully connected **CNN** based network :"
      ],
      "metadata": {
        "id": "XrxCPB1k2pyU"
      }
    },
    {
      "cell_type": "code",
      "source": [
        "#Define a simple model\n",
        "layers=tf.keras.layers\n",
        "\n",
        "model=tf.keras.models.Sequential([\n",
        "    ### START CODE HERE ###  \n",
        "    layers.Conv2D(32,5,activation=\"relu\",input_shape=(28,28,1)),\n",
        "    layers.BatchNormalization(),\n",
        "    layers.MaxPooling2D(2,2),\n",
        "      \n",
        "    layers.Conv2D(64,3,activation=\"relu\"),\n",
        "    layers.BatchNormalization(),\n",
        "    layers.MaxPooling2D((2,2)),\n",
        "    ### END CODE HERE ### \n",
        "    layers.Flatten(),\n",
        "    ### START CODE HERE ###  \n",
        "    layers.Dense(120,activation=\"relu\"),\n",
        "    layers.BatchNormalization(),\n",
        "    layers.Dropout(0.5),\n",
        "    layers.Dense(10,activation=\"Softmax\")\n",
        "    ### END CODE HERE ### \n",
        "])\n",
        "\n"
      ],
      "metadata": {
        "id": "aQ2Sia_HrCog"
      },
      "execution_count": null,
      "outputs": []
    },
    {
      "cell_type": "code",
      "source": [
        "#Compile\n",
        "\n",
        "model.compile(### START CODE HERE ### \n",
        "              loss=\"categorical_crossentropy\",\n",
        "              optimizer=\"adam\",\n",
        "              metrics=['accuracy']\n",
        "           \n",
        "              ### END CODE HERE ### \n",
        "              )\n",
        "model.summary()\n"
      ],
      "metadata": {
        "id": "JcKxxMP5sMs0",
        "colab": {
          "base_uri": "https://localhost:8080/"
        },
        "outputId": "94e2a31f-2bd3-47d2-b3fd-ef92da03614f"
      },
      "execution_count": null,
      "outputs": [
        {
          "output_type": "stream",
          "name": "stdout",
          "text": [
            "Model: \"sequential_16\"\n",
            "_________________________________________________________________\n",
            " Layer (type)                Output Shape              Param #   \n",
            "=================================================================\n",
            " conv2d_34 (Conv2D)          (None, 24, 24, 32)        832       \n",
            "                                                                 \n",
            " batch_normalization_3 (Batc  (None, 24, 24, 32)       128       \n",
            " hNormalization)                                                 \n",
            "                                                                 \n",
            " max_pooling2d_34 (MaxPoolin  (None, 12, 12, 32)       0         \n",
            " g2D)                                                            \n",
            "                                                                 \n",
            " conv2d_35 (Conv2D)          (None, 10, 10, 64)        18496     \n",
            "                                                                 \n",
            " batch_normalization_4 (Batc  (None, 10, 10, 64)       256       \n",
            " hNormalization)                                                 \n",
            "                                                                 \n",
            " max_pooling2d_35 (MaxPoolin  (None, 5, 5, 64)         0         \n",
            " g2D)                                                            \n",
            "                                                                 \n",
            " flatten_17 (Flatten)        (None, 1600)              0         \n",
            "                                                                 \n",
            " dense_33 (Dense)            (None, 120)               192120    \n",
            "                                                                 \n",
            " batch_normalization_5 (Batc  (None, 120)              480       \n",
            " hNormalization)                                                 \n",
            "                                                                 \n",
            " dropout_16 (Dropout)        (None, 120)               0         \n",
            "                                                                 \n",
            " dense_34 (Dense)            (None, 10)                1210      \n",
            "                                                                 \n",
            "=================================================================\n",
            "Total params: 213,522\n",
            "Trainable params: 213,090\n",
            "Non-trainable params: 432\n",
            "_________________________________________________________________\n"
          ]
        }
      ]
    },
    {
      "cell_type": "code",
      "source": [
        "#Train\n",
        "\n",
        "model.fit(\n",
        "  ### START CODE HERE ###  \n",
        "  x_train,y_train,epochs=15,batch_size=64,validation_split=0.2\n",
        "  ### END CODE HERE ### \n",
        "  )"
      ],
      "metadata": {
        "id": "99Wy1RNH3DF2",
        "colab": {
          "base_uri": "https://localhost:8080/"
        },
        "outputId": "a3704d53-77e3-4a47-a5fd-4ec1fea1b04e"
      },
      "execution_count": null,
      "outputs": [
        {
          "output_type": "stream",
          "name": "stdout",
          "text": [
            "Epoch 1/15\n",
            "750/750 [==============================] - 4s 5ms/step - loss: 0.4967 - accuracy: 0.8271 - val_loss: 0.3407 - val_accuracy: 0.8738\n",
            "Epoch 2/15\n",
            "750/750 [==============================] - 3s 5ms/step - loss: 0.3349 - accuracy: 0.8804 - val_loss: 0.3015 - val_accuracy: 0.8891\n",
            "Epoch 3/15\n",
            "750/750 [==============================] - 4s 5ms/step - loss: 0.2934 - accuracy: 0.8958 - val_loss: 0.2977 - val_accuracy: 0.8938\n",
            "Epoch 4/15\n",
            "750/750 [==============================] - 3s 5ms/step - loss: 0.2625 - accuracy: 0.9059 - val_loss: 0.2841 - val_accuracy: 0.8949\n",
            "Epoch 5/15\n",
            "750/750 [==============================] - 3s 5ms/step - loss: 0.2468 - accuracy: 0.9107 - val_loss: 0.2652 - val_accuracy: 0.9066\n",
            "Epoch 6/15\n",
            "750/750 [==============================] - 4s 5ms/step - loss: 0.2291 - accuracy: 0.9178 - val_loss: 0.3397 - val_accuracy: 0.8827\n",
            "Epoch 7/15\n",
            "750/750 [==============================] - 3s 5ms/step - loss: 0.2156 - accuracy: 0.9231 - val_loss: 0.3613 - val_accuracy: 0.8806\n",
            "Epoch 8/15\n",
            "750/750 [==============================] - 4s 5ms/step - loss: 0.2000 - accuracy: 0.9273 - val_loss: 0.2702 - val_accuracy: 0.9021\n",
            "Epoch 9/15\n",
            "750/750 [==============================] - 4s 5ms/step - loss: 0.1882 - accuracy: 0.9315 - val_loss: 0.2612 - val_accuracy: 0.9084\n",
            "Epoch 10/15\n",
            "750/750 [==============================] - 4s 5ms/step - loss: 0.1795 - accuracy: 0.9358 - val_loss: 0.2708 - val_accuracy: 0.9062\n",
            "Epoch 11/15\n",
            "750/750 [==============================] - 3s 5ms/step - loss: 0.1690 - accuracy: 0.9382 - val_loss: 0.2958 - val_accuracy: 0.9011\n",
            "Epoch 12/15\n",
            "750/750 [==============================] - 3s 5ms/step - loss: 0.1596 - accuracy: 0.9415 - val_loss: 0.2694 - val_accuracy: 0.9102\n",
            "Epoch 13/15\n",
            "750/750 [==============================] - 3s 5ms/step - loss: 0.1484 - accuracy: 0.9459 - val_loss: 0.2743 - val_accuracy: 0.9144\n",
            "Epoch 14/15\n",
            "750/750 [==============================] - 4s 5ms/step - loss: 0.1435 - accuracy: 0.9470 - val_loss: 0.2543 - val_accuracy: 0.9156\n",
            "Epoch 15/15\n",
            "750/750 [==============================] - 3s 5ms/step - loss: 0.1357 - accuracy: 0.9503 - val_loss: 0.2918 - val_accuracy: 0.9037\n"
          ]
        },
        {
          "output_type": "execute_result",
          "data": {
            "text/plain": [
              "<keras.callbacks.History at 0x7fe98839c2d0>"
            ]
          },
          "metadata": {},
          "execution_count": 95
        }
      ]
    },
    {
      "cell_type": "code",
      "source": [
        "loss, acc = model.evaluate(x_test, y_test)\n",
        "print('\\nTesting loss: %.2f, acc: %.2f '%(loss, acc))"
      ],
      "metadata": {
        "colab": {
          "base_uri": "https://localhost:8080/"
        },
        "id": "VIjwL1UFPq16",
        "outputId": "5b5fffb2-a190-414b-fd0d-b00822c34929"
      },
      "execution_count": null,
      "outputs": [
        {
          "output_type": "stream",
          "name": "stdout",
          "text": [
            "313/313 [==============================] - 1s 3ms/step - loss: 0.3183 - accuracy: 0.8967\n",
            "\n",
            "Testing loss: 0.32, acc: 0.90 \n"
          ]
        }
      ]
    }
  ]
}