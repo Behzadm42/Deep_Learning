{
  "cells": [
    {
      "cell_type": "code",
      "execution_count": 1,
      "metadata": {
        "id": "1dyIZQl8pMTI"
      },
      "outputs": [],
      "source": [
        "import numpy as np\n",
        "import tensorflow as tf\n",
        "from tensorflow.keras.layers import Conv2D,Flatten,Dense,Dropout\n",
        "from tensorflow.keras.preprocessing.image import ImageDataGenerator\n",
        "import matplotlib.pyplot as plt\n",
        "\n"
      ],
      "id": "1dyIZQl8pMTI"
    },
    {
      "cell_type": "code",
      "source": [
        "! pip install -q kaggle"
      ],
      "metadata": {
        "id": "71pymshqxNrB"
      },
      "id": "71pymshqxNrB",
      "execution_count": 2,
      "outputs": []
    },
    {
      "cell_type": "code",
      "execution_count": 3,
      "metadata": {
        "id": "w0MMqjWfpMTK"
      },
      "outputs": [],
      "source": [
        "!mkdir ~/.kaggle"
      ],
      "id": "w0MMqjWfpMTK"
    },
    {
      "cell_type": "code",
      "source": [
        "! cp kaggle.json ~/.kaggle/"
      ],
      "metadata": {
        "id": "mZYe7fi1tHF6"
      },
      "id": "mZYe7fi1tHF6",
      "execution_count": 4,
      "outputs": []
    },
    {
      "cell_type": "code",
      "source": [
        "! chmod 600 ~/.kaggle/kaggle.json"
      ],
      "metadata": {
        "id": "vzhSdbjIxdiR"
      },
      "id": "vzhSdbjIxdiR",
      "execution_count": 5,
      "outputs": []
    },
    {
      "cell_type": "code",
      "source": [
        "! mkdir train"
      ],
      "metadata": {
        "id": "aVcjJcWPyKBV"
      },
      "id": "aVcjJcWPyKBV",
      "execution_count": 8,
      "outputs": []
    },
    {
      "cell_type": "code",
      "source": [
        "! unzip train.zip -d train"
      ],
      "metadata": {
        "colab": {
          "base_uri": "https://localhost:8080/"
        },
        "id": "dy38I8zeyK6-",
        "outputId": "77563fae-0df2-4caa-d71e-67c0c484bf96"
      },
      "id": "dy38I8zeyK6-",
      "execution_count": 13,
      "outputs": [
        {
          "output_type": "stream",
          "name": "stdout",
          "text": [
            "unzip:  cannot find or open train.zip, train.zip.zip or train.zip.ZIP.\n"
          ]
        }
      ]
    },
    {
      "cell_type": "code",
      "source": [
        "!ls -al ~/.kaggle\n"
      ],
      "metadata": {
        "colab": {
          "base_uri": "https://localhost:8080/"
        },
        "id": "hBmfNDIurDim",
        "outputId": "b5bca4e3-5ed6-4aa9-8de6-4335d18b3cc6"
      },
      "id": "hBmfNDIurDim",
      "execution_count": 10,
      "outputs": [
        {
          "output_type": "stream",
          "name": "stdout",
          "text": [
            "total 16\n",
            "drwxr-xr-x 2 root root 4096 Nov 19 13:24 .\n",
            "drwx------ 1 root root 4096 Nov 19 13:23 ..\n",
            "-rw------- 1 root root   70 Nov 19 13:24 kaggle.json\n"
          ]
        }
      ]
    },
    {
      "cell_type": "code",
      "source": [
        "! chmod 600 ~/.kaggle/kaggle.json"
      ],
      "metadata": {
        "id": "a6g5Js2otR-T"
      },
      "id": "a6g5Js2otR-T",
      "execution_count": 11,
      "outputs": []
    },
    {
      "cell_type": "code",
      "execution_count": 12,
      "metadata": {
        "colab": {
          "base_uri": "https://localhost:8080/"
        },
        "id": "OkUoOiklpMTK",
        "outputId": "b0e8cbb7-1efa-43bd-8681-c25dace64fd2"
      },
      "outputs": [
        {
          "output_type": "stream",
          "name": "stdout",
          "text": [
            "403 - Forbidden\n"
          ]
        }
      ],
      "source": [
        "!kaggle datasets download -d cantonioupao/oxford-flower-17categoies-labelled "
      ],
      "id": "OkUoOiklpMTK"
    },
    {
      "cell_type": "code",
      "source": [
        "!ls -lha kaggle.json"
      ],
      "metadata": {
        "colab": {
          "base_uri": "https://localhost:8080/"
        },
        "id": "vVerEJ0ptRML",
        "outputId": "99442180-ebc1-4451-9646-da538e84e431"
      },
      "id": "vVerEJ0ptRML",
      "execution_count": null,
      "outputs": [
        {
          "output_type": "stream",
          "name": "stdout",
          "text": [
            "-rw-r--r-- 1 root root 70 Oct  8 08:45 kaggle.json\n"
          ]
        }
      ]
    },
    {
      "cell_type": "code",
      "source": [
        "!mkdir -p ~/.kaggle\n",
        "!cp kaggle.json ~/.kaggle/"
      ],
      "metadata": {
        "id": "uxftvUEOyryD"
      },
      "id": "uxftvUEOyryD",
      "execution_count": null,
      "outputs": []
    },
    {
      "cell_type": "code",
      "source": [
        "!chmod 600 /root/.kaggle/kaggle.json"
      ],
      "metadata": {
        "id": "EQVY7JiWyrqA"
      },
      "id": "EQVY7JiWyrqA",
      "execution_count": null,
      "outputs": []
    },
    {
      "cell_type": "code",
      "source": [
        "!pwd"
      ],
      "metadata": {
        "colab": {
          "base_uri": "https://localhost:8080/"
        },
        "id": "wizcm8aFyrV4",
        "outputId": "b4fdf5f4-d7d3-4b09-cb84-d79ed8ebbf71"
      },
      "id": "wizcm8aFyrV4",
      "execution_count": 14,
      "outputs": [
        {
          "output_type": "stream",
          "name": "stdout",
          "text": [
            "/content\n"
          ]
        }
      ]
    },
    {
      "cell_type": "code",
      "source": [
        "!kaggle datasets list"
      ],
      "metadata": {
        "colab": {
          "base_uri": "https://localhost:8080/"
        },
        "id": "srBCev4Ly12x",
        "outputId": "f33c9624-ef21-41a1-8ad7-e66b8521e474"
      },
      "id": "srBCev4Ly12x",
      "execution_count": 15,
      "outputs": [
        {
          "output_type": "stream",
          "name": "stdout",
          "text": [
            "ref                                                             title                                       size  lastUpdated          downloadCount  voteCount  usabilityRating  \n",
            "--------------------------------------------------------------  -----------------------------------------  -----  -------------------  -------------  ---------  ---------------  \n",
            "akshaydattatraykhare/diabetes-dataset                           Diabetes Dataset                             9KB  2022-10-06 08:55:25          15255        449  1.0              \n",
            "akshaydattatraykhare/data-for-admission-in-the-university       Data for Admission in the University         4KB  2022-10-27 11:05:45           3719         84  1.0              \n",
            "aneesayoub/world-universities-ranking-2022                      World Universities Ranking 2022             41KB  2022-11-17 03:47:37           1051         29  0.9117647        \n",
            "whenamancodes/covid-19-coronavirus-pandemic-dataset             COVID -19 Coronavirus Pandemic Dataset      11KB  2022-09-30 04:05:11          11425        360  1.0              \n",
            "thedevastator/240000-household-electricity-consumption-records  Household Electricity Consumption            3MB  2022-10-24 01:22:40           1153         34  1.0              \n",
            "whenamancodes/credit-card-customers-prediction                  Credit Card Customers Prediction           379KB  2022-10-30 13:03:27           2571         59  1.0              \n",
            "thedevastator/latest-licensed-playstation-games-in-japan        PlayStation Games                           53KB  2022-11-09 02:51:20            658         30  0.9411765        \n",
            "hasibalmuzdadid/global-air-pollution-dataset                    Global Air Pollution Dataset               371KB  2022-11-08 14:43:32           1934         55  1.0              \n",
            "swaptr/layoffs-2022                                             Layoffs 2022                                30KB  2022-11-18 09:48:10           1065         36  1.0              \n",
            "whenamancodes/world-happiness-report                            He..He..He... World Happiness Report 2022  120KB  2022-10-26 09:28:48            844         26  1.0              \n",
            "maharshipandya/-spotify-tracks-dataset                          🎹 Spotify Tracks Dataset                     8MB  2022-10-22 14:40:15           3269         95  1.0              \n",
            "whenamancodes/students-performance-in-exams                     Students Performance in Exams                9KB  2022-09-14 15:14:54          19072        343  1.0              \n",
            "whenamancodes/predict-diabities                                 Predict Diabetes                             9KB  2022-11-09 12:18:49           1621         33  1.0              \n",
            "iamsouravbanerjee/game-of-thrones-dataset                       Game of Thrones Dataset                     33KB  2022-11-10 11:41:21            463         35  1.0              \n",
            "jalota/books-dataset                                            Books_dataset                              537KB  2022-11-02 21:02:48           1188         27  1.0              \n",
            "stetsondone/video-game-sales-by-genre                           Video Game Sales by Genre                   12KB  2022-10-31 17:56:01           1285         30  1.0              \n",
            "marta99/elon-musks-tweets-dataset-2022                          Elon Musk's Tweets Dataset 2022            293KB  2022-10-27 19:10:46            720         34  1.0              \n",
            "akshaydattatraykhare/car-details-dataset                        Car Details Dataset                         56KB  2022-10-21 06:11:56           3507         58  1.0              \n",
            "cedricaubin/ai-ml-salaries                                      AI/ML Salaries                              11KB  2022-11-06 11:20:31            662         27  1.0              \n",
            "thedevastator/predicting-job-titles-from-resumes                Predicting Job Titles from Resumes          40KB  2022-11-05 10:23:35            816         27  1.0              \n"
          ]
        }
      ]
    },
    {
      "cell_type": "code",
      "source": [
        "!kaggle datasets download -d varsharainer/dna-sequencing-classifier"
      ],
      "metadata": {
        "colab": {
          "base_uri": "https://localhost:8080/"
        },
        "id": "7he6C8_fy1zQ",
        "outputId": "025f9c2b-f24e-4592-dc91-f732cfc1cf6d"
      },
      "id": "7he6C8_fy1zQ",
      "execution_count": 16,
      "outputs": [
        {
          "output_type": "stream",
          "name": "stdout",
          "text": [
            "403 - Forbidden\n"
          ]
        }
      ]
    },
    {
      "cell_type": "code",
      "source": [],
      "metadata": {
        "id": "wnlsoSasy1rl"
      },
      "id": "wnlsoSasy1rl",
      "execution_count": null,
      "outputs": []
    },
    {
      "cell_type": "code",
      "execution_count": 17,
      "metadata": {
        "id": "8lQnFWTUpMTK",
        "outputId": "5b9cb528-6f3c-4cf1-f7e1-2ee986ba0889",
        "colab": {
          "base_uri": "https://localhost:8080/"
        }
      },
      "outputs": [
        {
          "output_type": "stream",
          "name": "stdout",
          "text": [
            "/bin/bash: -c: line 0: syntax error near unexpected token `path'\n",
            "/bin/bash: -c: line 0: `unzip  (path)'\n"
          ]
        }
      ],
      "source": [
        "!unzip  (path)"
      ],
      "id": "8lQnFWTUpMTK"
    },
    {
      "cell_type": "markdown",
      "metadata": {
        "id": "861yjqkvpMTL"
      },
      "source": [
        "validation mitim be onvaneh test darnazar begirim"
      ],
      "id": "861yjqkvpMTL"
    },
    {
      "cell_type": "code",
      "execution_count": 18,
      "metadata": {
        "id": "7tBXd7YJpMTM"
      },
      "outputs": [],
      "source": [
        "train_dataset_path='(path)'\n",
        "test_dataset_path='(path)'\n",
        "validation_dataset_path='(path)'"
      ],
      "id": "7tBXd7YJpMTM"
    },
    {
      "cell_type": "code",
      "execution_count": 19,
      "metadata": {
        "id": "DAB1a4ktpMTM"
      },
      "outputs": [],
      "source": [
        "batch_size=12\n",
        "epochs=10"
      ],
      "id": "DAB1a4ktpMTM"
    },
    {
      "cell_type": "code",
      "execution_count": 20,
      "metadata": {
        "id": "j_mF3fdypMTM"
      },
      "outputs": [],
      "source": [
        "#size tasavir\n",
        "height=width=224"
      ],
      "id": "j_mF3fdypMTM"
    },
    {
      "cell_type": "code",
      "execution_count": null,
      "metadata": {
        "id": "gLUMWllhpMTN"
      },
      "outputs": [],
      "source": [
        "#akasaro inja mikhonim\n",
        "idg=ImageDataGenerator(\n",
        "    rescale=1./255,\n",
        "    horizental_flip=True,\n",
        "    brighness_range=(0.8,1.2),\n",
        "    zoom_range=0.2,\n",
        "    shear_range=0.2,\n",
        "    rotation_range=20,\n",
        "    validation_split=0.2\n",
        ")\n"
      ],
      "id": "gLUMWllhpMTN"
    },
    {
      "cell_type": "code",
      "execution_count": null,
      "metadata": {
        "id": "uJN-5flRpMTN",
        "outputId": "79a454aa-f2c6-4198-a875-43c16613027a"
      },
      "outputs": [
        {
          "ename": "NameError",
          "evalue": "name 'idg' is not defined",
          "output_type": "error",
          "traceback": [
            "\u001b[1;31m---------------------------------------------------------------------------\u001b[0m",
            "\u001b[1;31mNameError\u001b[0m                                 Traceback (most recent call last)",
            "\u001b[1;32m<ipython-input-11-f09e0bd21c25>\u001b[0m in \u001b[0;36m<module>\u001b[1;34m\u001b[0m\n\u001b[0;32m      1\u001b[0m \u001b[1;31m#dadeh haye train mesireshon az kojast\u001b[0m\u001b[1;33m\u001b[0m\u001b[1;33m\u001b[0m\u001b[1;33m\u001b[0m\u001b[0m\n\u001b[1;32m----> 2\u001b[1;33m train_data=idg.flow_from_directory(\n\u001b[0m\u001b[0;32m      3\u001b[0m     \u001b[0mtrain_dataset_path\u001b[0m\u001b[1;33m,\u001b[0m\u001b[1;33m\u001b[0m\u001b[1;33m\u001b[0m\u001b[0m\n\u001b[0;32m      4\u001b[0m     \u001b[0mtarget_size\u001b[0m\u001b[1;33m=\u001b[0m\u001b[1;33m(\u001b[0m\u001b[0mwidth\u001b[0m\u001b[1;33m,\u001b[0m\u001b[0mheight\u001b[0m\u001b[1;33m)\u001b[0m\u001b[1;33m,\u001b[0m\u001b[1;33m\u001b[0m\u001b[1;33m\u001b[0m\u001b[0m\n\u001b[0;32m      5\u001b[0m     \u001b[0mclass_mode\u001b[0m\u001b[1;33m=\u001b[0m\u001b[1;34m'categorical'\u001b[0m\u001b[1;33m,\u001b[0m\u001b[1;33m\u001b[0m\u001b[1;33m\u001b[0m\u001b[0m\n",
            "\u001b[1;31mNameError\u001b[0m: name 'idg' is not defined"
          ]
        }
      ],
      "source": [
        "#dadeh haye train mesireshon az kojast\n",
        "train_data=idg.flow_from_directory(\n",
        "    train_dataset_path,\n",
        "    target_size=(width,height),\n",
        "    class_mode='categorical',\n",
        "    batch_size=batch_size,\n",
        "    subset='training'\n",
        ")"
      ],
      "id": "uJN-5flRpMTN"
    },
    {
      "cell_type": "code",
      "execution_count": null,
      "metadata": {
        "id": "FotUNrU3pMTO",
        "outputId": "4de891e4-692b-42f3-8f84-4756e4173b21"
      },
      "outputs": [
        {
          "ename": "NameError",
          "evalue": "name 'idg' is not defined",
          "output_type": "error",
          "traceback": [
            "\u001b[1;31m---------------------------------------------------------------------------\u001b[0m",
            "\u001b[1;31mNameError\u001b[0m                                 Traceback (most recent call last)",
            "\u001b[1;32m<ipython-input-12-fee57088b334>\u001b[0m in \u001b[0;36m<module>\u001b[1;34m\u001b[0m\n\u001b[1;32m----> 1\u001b[1;33m val_data=idg.flow_from_directory(\n\u001b[0m\u001b[0;32m      2\u001b[0m     \u001b[0mvalidation_dataset_path\u001b[0m\u001b[1;33m,\u001b[0m\u001b[1;33m\u001b[0m\u001b[1;33m\u001b[0m\u001b[0m\n\u001b[0;32m      3\u001b[0m     \u001b[0mtarget_size\u001b[0m\u001b[1;33m=\u001b[0m\u001b[1;33m(\u001b[0m\u001b[0mwidth\u001b[0m\u001b[1;33m,\u001b[0m\u001b[0mheight\u001b[0m\u001b[1;33m)\u001b[0m\u001b[1;33m,\u001b[0m\u001b[1;33m\u001b[0m\u001b[1;33m\u001b[0m\u001b[0m\n\u001b[0;32m      4\u001b[0m     \u001b[0mclass_mode\u001b[0m\u001b[1;33m=\u001b[0m\u001b[1;34m'categorical'\u001b[0m\u001b[1;33m,\u001b[0m\u001b[1;33m\u001b[0m\u001b[1;33m\u001b[0m\u001b[0m\n\u001b[0;32m      5\u001b[0m     \u001b[0mbatch_size\u001b[0m\u001b[1;33m=\u001b[0m\u001b[0mbatch_size\u001b[0m\u001b[1;33m,\u001b[0m\u001b[1;33m\u001b[0m\u001b[1;33m\u001b[0m\u001b[0m\n",
            "\u001b[1;31mNameError\u001b[0m: name 'idg' is not defined"
          ]
        }
      ],
      "source": [
        "val_data=idg.flow_from_directory(\n",
        "    validation_dataset_path,\n",
        "    target_size=(width,height),\n",
        "    class_mode='categorical',\n",
        "    batch_size=batch_size,\n",
        "    subset='validation'\n",
        ")"
      ],
      "id": "FotUNrU3pMTO"
    },
    {
      "cell_type": "code",
      "execution_count": null,
      "metadata": {
        "id": "D4yYkCEQpMTO",
        "outputId": "df59435d-3e7c-4777-d3b5-cdd89f846c9f"
      },
      "outputs": [
        {
          "ename": "NameError",
          "evalue": "name 'tf' is not defined",
          "output_type": "error",
          "traceback": [
            "\u001b[1;31m---------------------------------------------------------------------------\u001b[0m",
            "\u001b[1;31mNameError\u001b[0m                                 Traceback (most recent call last)",
            "\u001b[1;32m<ipython-input-13-68fc47de048d>\u001b[0m in \u001b[0;36m<module>\u001b[1;34m\u001b[0m\n\u001b[0;32m      1\u001b[0m \u001b[1;31m#baraye inkeh bekhaid az model ha estefade konid bayad yekseri parametrhara behesh bedid\u001b[0m\u001b[1;33m\u001b[0m\u001b[1;33m\u001b[0m\u001b[1;33m\u001b[0m\u001b[0m\n\u001b[1;32m----> 2\u001b[1;33m vgg16_model=tf.keras.applications.VGG16(\n\u001b[0m\u001b[0;32m      3\u001b[0m     \u001b[0mweights\u001b[0m\u001b[1;33m=\u001b[0m\u001b[1;34m'imagenet'\u001b[0m\u001b[1;33m,\u001b[0m\u001b[1;33m\u001b[0m\u001b[1;33m\u001b[0m\u001b[0m\n\u001b[0;32m      4\u001b[0m     \u001b[0minput_shape\u001b[0m\u001b[1;33m=\u001b[0m\u001b[1;33m(\u001b[0m\u001b[0mwidth\u001b[0m\u001b[1;33m,\u001b[0m\u001b[0mheight\u001b[0m\u001b[1;33m,\u001b[0m\u001b[1;36m3\u001b[0m\u001b[1;33m)\u001b[0m\u001b[1;33m,\u001b[0m\u001b[1;33m\u001b[0m\u001b[1;33m\u001b[0m\u001b[0m\n\u001b[0;32m      5\u001b[0m     \u001b[0minclude_top\u001b[0m\u001b[1;33m=\u001b[0m\u001b[0mfalse\u001b[0m\u001b[1;33m,\u001b[0m\u001b[1;33m\u001b[0m\u001b[1;33m\u001b[0m\u001b[0m\n",
            "\u001b[1;31mNameError\u001b[0m: name 'tf' is not defined"
          ]
        }
      ],
      "source": [
        "#baraye inkeh bekhaid az model ha estefade konid bayad yekseri parametrhara behesh bedid\n",
        "vgg16_model=tf.keras.applications.VGG16(\n",
        "    weights='imagenet',\n",
        "    input_shape=(width,height,3),\n",
        "    include_top=false,\n",
        "    pooling='avg'\n",
        ")"
      ],
      "id": "D4yYkCEQpMTO"
    },
    {
      "cell_type": "code",
      "execution_count": null,
      "metadata": {
        "id": "GBDi46FtpMTP",
        "outputId": "2e826ba2-57d1-4c1c-9cdb-2875320814f8"
      },
      "outputs": [
        {
          "ename": "NameError",
          "evalue": "name 'vgg16' is not defined",
          "output_type": "error",
          "traceback": [
            "\u001b[1;31m---------------------------------------------------------------------------\u001b[0m",
            "\u001b[1;31mNameError\u001b[0m                                 Traceback (most recent call last)",
            "\u001b[1;32m<ipython-input-14-f9cc75c0c726>\u001b[0m in \u001b[0;36m<module>\u001b[1;34m\u001b[0m\n\u001b[0;32m      1\u001b[0m \u001b[1;31m#freeze all layes except the last 4 layers\u001b[0m\u001b[1;33m\u001b[0m\u001b[1;33m\u001b[0m\u001b[1;33m\u001b[0m\u001b[0m\n\u001b[0;32m      2\u001b[0m \u001b[1;33m\u001b[0m\u001b[0m\n\u001b[1;32m----> 3\u001b[1;33m \u001b[1;32mfor\u001b[0m \u001b[0mlayers\u001b[0m \u001b[1;32min\u001b[0m \u001b[0mvgg16\u001b[0m\u001b[1;33m.\u001b[0m\u001b[0mmodel\u001b[0m\u001b[1;33m.\u001b[0m\u001b[0mlayers\u001b[0m\u001b[1;33m[\u001b[0m\u001b[1;36m0\u001b[0m\u001b[1;33m:\u001b[0m\u001b[1;33m-\u001b[0m\u001b[1;36m4\u001b[0m\u001b[1;33m]\u001b[0m\u001b[1;33m:\u001b[0m\u001b[1;33m\u001b[0m\u001b[1;33m\u001b[0m\u001b[0m\n\u001b[0m\u001b[0;32m      4\u001b[0m     \u001b[0mlayers\u001b[0m\u001b[1;33m.\u001b[0m\u001b[0mtrainable\u001b[0m\u001b[1;33m=\u001b[0m\u001b[0mfalse\u001b[0m\u001b[1;33m\u001b[0m\u001b[1;33m\u001b[0m\u001b[0m\n",
            "\u001b[1;31mNameError\u001b[0m: name 'vgg16' is not defined"
          ]
        }
      ],
      "source": [
        "#freeze all layes except the last 4 layers\n",
        "\n",
        "for layers in vgg16_model.layers[0:-4]:\n",
        "    layers.trainable=false"
      ],
      "id": "GBDi46FtpMTP"
    },
    {
      "cell_type": "code",
      "execution_count": null,
      "metadata": {
        "id": "nqd4q06CpMTP"
      },
      "outputs": [],
      "source": [
        "model=tf.keras.models.Sequential([\n",
        "    vgg16_model,\n",
        "    Dropout(0.2),\n",
        "    Dense(15,activation='softmax')\n",
        "])"
      ],
      "id": "nqd4q06CpMTP"
    },
    {
      "cell_type": "code",
      "execution_count": null,
      "metadata": {
        "id": "Co3q-LNdpMTP"
      },
      "outputs": [],
      "source": [
        "model.compile(\n",
        "    optimizer=tf.keras.optimizr.adam(),\n",
        "    loss=tf.keras.losses.categorical_crossentropy,\n",
        "    metrics=['accuracy']\n",
        ")"
      ],
      "id": "Co3q-LNdpMTP"
    },
    {
      "cell_type": "code",
      "execution_count": null,
      "metadata": {
        "id": "S3Zb8D6EpMTP"
      },
      "outputs": [],
      "source": [
        "model.fit(\n",
        "        train_data,\n",
        "    validation_data=val_data,\n",
        "    epochs=epochs\n",
        ")"
      ],
      "id": "S3Zb8D6EpMTP"
    },
    {
      "cell_type": "code",
      "execution_count": null,
      "metadata": {
        "id": "ykPcWA1opMTQ"
      },
      "outputs": [],
      "source": [
        "model.evaluate(val_data)"
      ],
      "id": "ykPcWA1opMTQ"
    },
    {
      "cell_type": "markdown",
      "metadata": {
        "id": "8TcGIWMSpMTQ"
      },
      "source": [
        "ResNet50"
      ],
      "id": "8TcGIWMSpMTQ"
    },
    {
      "cell_type": "code",
      "execution_count": null,
      "metadata": {
        "id": "gl3r1L8dpMTQ"
      },
      "outputs": [],
      "source": [
        "resnet50_model=tf.keras.applications.ResNet50V2(\n",
        "    weights='imagenet',\n",
        "    input_shape=(width,height,3),\n",
        "    include_top=false,\n",
        "    pooling='avg'\n",
        ")"
      ],
      "id": "gl3r1L8dpMTQ"
    },
    {
      "cell_type": "code",
      "execution_count": null,
      "metadata": {
        "id": "OwyGp1blpMTQ"
      },
      "outputs": [],
      "source": [
        "resnet50_model.trainable=False"
      ],
      "id": "OwyGp1blpMTQ"
    },
    {
      "cell_type": "code",
      "execution_count": null,
      "metadata": {
        "id": "dDmRo8mepMTQ"
      },
      "outputs": [],
      "source": [
        "model=tf.keras.models.Sequential([\n",
        "    resnet50_model,\n",
        "    Dropout(0.2),\n",
        "    Dense(15,activation='softmax')\n",
        "])"
      ],
      "id": "dDmRo8mepMTQ"
    },
    {
      "cell_type": "code",
      "execution_count": null,
      "metadata": {
        "id": "9F1ccQgqpMTR"
      },
      "outputs": [],
      "source": [
        "model.compile(\n",
        "    optimizer=tf.keras.optimizr.adam(),\n",
        "    loss=tf.keras.losses.categorical_crossentropy,\n",
        "    metrics=['accuracy']\n",
        ")"
      ],
      "id": "9F1ccQgqpMTR"
    },
    {
      "cell_type": "code",
      "execution_count": null,
      "metadata": {
        "id": "l9aBNGprpMTR"
      },
      "outputs": [],
      "source": [
        "model.fit(\n",
        "        train_data,\n",
        "    validation_data=val_data,\n",
        "    epochs=epochs\n",
        ")"
      ],
      "id": "l9aBNGprpMTR"
    },
    {
      "cell_type": "code",
      "execution_count": null,
      "metadata": {
        "id": "9BJ_rgOgpMTR"
      },
      "outputs": [],
      "source": [
        "model.evaluate(val_data)"
      ],
      "id": "9BJ_rgOgpMTR"
    }
  ],
  "metadata": {
    "kernelspec": {
      "display_name": "Python 3",
      "language": "python",
      "name": "python3"
    },
    "language_info": {
      "codemirror_mode": {
        "name": "ipython",
        "version": 3
      },
      "file_extension": ".py",
      "mimetype": "text/x-python",
      "name": "python",
      "nbconvert_exporter": "python",
      "pygments_lexer": "ipython3",
      "version": "3.7.1"
    },
    "colab": {
      "provenance": []
    },
    "accelerator": "GPU",
    "gpuClass": "standard"
  },
  "nbformat": 4,
  "nbformat_minor": 5
}