{
 "cells": [
  {
   "cell_type": "code",
   "execution_count": 1,
   "metadata": {},
   "outputs": [
    {
     "name": "stdout",
     "output_type": "stream",
     "text": [
      "\n",
      "The following command must be run outside of the IPython shell:\n",
      "\n",
      "    $ pip instal tensorflow\n",
      "\n",
      "The Python package manager (pip) can only be used from outside of IPython.\n",
      "Please reissue the `pip` command in a separate terminal or command prompt.\n",
      "\n",
      "See the Python documentation for more information on how to install packages:\n",
      "\n",
      "    https://docs.python.org/3/installing/\n"
     ]
    }
   ],
   "source": [
    "pip instal tensorflow"
   ]
  },
  {
   "cell_type": "code",
   "execution_count": 5,
   "metadata": {
    "id": "gDj8-aiXQFbE"
   },
   "outputs": [
    {
     "ename": "ModuleNotFoundError",
     "evalue": "No module named 'tensorflow'",
     "output_type": "error",
     "traceback": [
      "\u001b[1;31m---------------------------------------------------------------------------\u001b[0m",
      "\u001b[1;31mModuleNotFoundError\u001b[0m                       Traceback (most recent call last)",
      "\u001b[1;32m<ipython-input-5-1a7b27275a8e>\u001b[0m in \u001b[0;36m<module>\u001b[1;34m\u001b[0m\n\u001b[0;32m      1\u001b[0m \u001b[1;32mimport\u001b[0m \u001b[0mnumpy\u001b[0m \u001b[1;32mas\u001b[0m \u001b[0mnp\u001b[0m\u001b[1;33m\u001b[0m\u001b[1;33m\u001b[0m\u001b[0m\n\u001b[1;32m----> 2\u001b[1;33m \u001b[1;32mimport\u001b[0m \u001b[0mtensorflow\u001b[0m \u001b[1;32mas\u001b[0m \u001b[0mtf\u001b[0m\u001b[1;33m\u001b[0m\u001b[1;33m\u001b[0m\u001b[0m\n\u001b[0m\u001b[0;32m      3\u001b[0m \u001b[1;32mfrom\u001b[0m \u001b[0mtensorflow\u001b[0m \u001b[1;32mimport\u001b[0m \u001b[0mkeras\u001b[0m\u001b[1;33m\u001b[0m\u001b[1;33m\u001b[0m\u001b[0m\n\u001b[0;32m      4\u001b[0m \u001b[1;32mfrom\u001b[0m \u001b[0mtensorflow\u001b[0m\u001b[1;33m.\u001b[0m\u001b[0mkeras\u001b[0m \u001b[1;32mimport\u001b[0m \u001b[0mlayers\u001b[0m\u001b[1;33m\u001b[0m\u001b[1;33m\u001b[0m\u001b[0m\n\u001b[0;32m      5\u001b[0m \u001b[1;32mimport\u001b[0m \u001b[0mmatplotlib\u001b[0m\u001b[1;33m.\u001b[0m\u001b[0mpyplot\u001b[0m \u001b[1;32mas\u001b[0m \u001b[0mplt\u001b[0m\u001b[1;33m\u001b[0m\u001b[1;33m\u001b[0m\u001b[0m\n",
      "\u001b[1;31mModuleNotFoundError\u001b[0m: No module named 'tensorflow'"
     ]
    }
   ],
   "source": [
    "import numpy as np\n",
    "import tensorflow as tf\n",
    "from tensorflow import keras\n",
    "from tensorflow.keras import layers\n",
    "import matplotlib.pyplot as plt\n"
   ]
  },
  {
   "cell_type": "code",
   "execution_count": 3,
   "metadata": {
    "colab": {
     "base_uri": "https://localhost:8080/",
     "height": 334
    },
    "id": "Z9wwDcZvQWpv",
    "outputId": "7a31ba75-4290-443c-80a4-3d26bd0ed345"
   },
   "outputs": [
    {
     "ename": "NameError",
     "evalue": "name 'tf' is not defined",
     "output_type": "error",
     "traceback": [
      "\u001b[1;31m---------------------------------------------------------------------------\u001b[0m",
      "\u001b[1;31mNameError\u001b[0m                                 Traceback (most recent call last)",
      "\u001b[1;32m<ipython-input-3-290688f2386c>\u001b[0m in \u001b[0;36m<module>\u001b[1;34m\u001b[0m\n\u001b[1;32m----> 1\u001b[1;33m \u001b[0mdataset\u001b[0m\u001b[1;33m=\u001b[0m\u001b[0mtf\u001b[0m\u001b[1;33m.\u001b[0m\u001b[0mkeras\u001b[0m\u001b[1;33m.\u001b[0m\u001b[0mdatasets\u001b[0m\u001b[1;33m.\u001b[0m\u001b[0mmnist\u001b[0m\u001b[1;33m\u001b[0m\u001b[1;33m\u001b[0m\u001b[0m\n\u001b[0m\u001b[0;32m      2\u001b[0m \u001b[1;33m(\u001b[0m\u001b[0mx_train\u001b[0m\u001b[1;33m,\u001b[0m\u001b[0my_train\u001b[0m\u001b[1;33m)\u001b[0m\u001b[1;33m,\u001b[0m\u001b[1;33m(\u001b[0m\u001b[0mx_test\u001b[0m\u001b[1;33m,\u001b[0m\u001b[0my_test\u001b[0m\u001b[1;33m)\u001b[0m\u001b[1;33m=\u001b[0m\u001b[0mdataset\u001b[0m\u001b[1;33m.\u001b[0m\u001b[0mload_data\u001b[0m\u001b[1;33m(\u001b[0m\u001b[1;33m)\u001b[0m\u001b[1;33m\u001b[0m\u001b[1;33m\u001b[0m\u001b[0m\n\u001b[0;32m      3\u001b[0m \u001b[0mplt\u001b[0m\u001b[1;33m.\u001b[0m\u001b[0mimshow\u001b[0m\u001b[1;33m(\u001b[0m\u001b[0mx_train\u001b[0m\u001b[1;33m[\u001b[0m\u001b[1;36m10\u001b[0m\u001b[1;33m]\u001b[0m\u001b[1;33m,\u001b[0m\u001b[0mcmap\u001b[0m\u001b[1;33m=\u001b[0m\u001b[1;34m'gray'\u001b[0m\u001b[1;33m)\u001b[0m\u001b[1;33m\u001b[0m\u001b[1;33m\u001b[0m\u001b[0m\n\u001b[0;32m      4\u001b[0m \u001b[0my_train\u001b[0m\u001b[1;33m[\u001b[0m\u001b[1;36m10\u001b[0m\u001b[1;33m]\u001b[0m\u001b[1;33m\u001b[0m\u001b[1;33m\u001b[0m\u001b[0m\n",
      "\u001b[1;31mNameError\u001b[0m: name 'tf' is not defined"
     ]
    }
   ],
   "source": [
    "dataset=tf.keras.datasets.mnist\n",
    "(x_train,y_train),(x_test,y_test)=dataset.load_data()\n",
    "plt.imshow(x_train[10],cmap='gray')\n",
    "y_train[10]"
   ]
  },
  {
   "cell_type": "code",
   "execution_count": null,
   "metadata": {
    "colab": {
     "base_uri": "https://localhost:8080/"
    },
    "id": "-UKlh0_dSzLX",
    "outputId": "ebdd837a-8bfa-4ecf-e732-8725104021a1"
   },
   "outputs": [
    {
     "name": "stdout",
     "output_type": "stream",
     "text": [
      "(60000, 784)\n"
     ]
    }
   ],
   "source": [
    "x_train = x_train.reshape(60000, 784).astype(\"float32\") / 255\n",
    "x_test = x_test.reshape(10000, 784).astype(\"float32\") / 255\n",
    "y_train=y_train.astype(\"float32\")\n",
    "y_tets=y_test.astype(\"float32\")\n",
    "print(x_train.shape)"
   ]
  },
  {
   "cell_type": "code",
   "execution_count": null,
   "metadata": {
    "colab": {
     "base_uri": "https://localhost:8080/"
    },
    "id": "OYcjkLpsTYZZ",
    "outputId": "b3d4a3f9-8849-45a8-fc01-f9b4f576d421"
   },
   "outputs": [
    {
     "data": {
      "text/plain": [
       "TensorShape([None, 784])"
      ]
     },
     "execution_count": 6,
     "metadata": {},
     "output_type": "execute_result"
    }
   ],
   "source": [
    "inputs = keras.Input(shape=(784,))\n",
    "inputs.shape\n",
    "\n"
   ]
  },
  {
   "cell_type": "code",
   "execution_count": null,
   "metadata": {
    "colab": {
     "base_uri": "https://localhost:8080/"
    },
    "id": "DZ4Xmbb5Tudr",
    "outputId": "5f4779b6-15e5-480a-cf99-a537a2a0eec4"
   },
   "outputs": [
    {
     "name": "stdout",
     "output_type": "stream",
     "text": [
      "Model: \"mnist_model\"\n",
      "_________________________________________________________________\n",
      " Layer (type)                Output Shape              Param #   \n",
      "=================================================================\n",
      " input_1 (InputLayer)        [(None, 784)]             0         \n",
      "                                                                 \n",
      " dense (Dense)               (None, 64)                50240     \n",
      "                                                                 \n",
      " dense_1 (Dense)             (None, 64)                4160      \n",
      "                                                                 \n",
      " dense_2 (Dense)             (None, 10)                650       \n",
      "                                                                 \n",
      "=================================================================\n",
      "Total params: 55,050\n",
      "Trainable params: 55,050\n",
      "Non-trainable params: 0\n",
      "_________________________________________________________________\n"
     ]
    }
   ],
   "source": [
    "dense = layers.Dense(64, activation=\"relu\")(inputs)\n",
    "x = layers.Dense(64, activation=\"relu\")(dense)\n",
    "outputs = layers.Dense(10 ,activation=\"Softmax\")(x)\n",
    "model = keras.Model(inputs=inputs, outputs=outputs, name=\"mnist_model\")\n",
    "model.summary()"
   ]
  },
  {
   "cell_type": "code",
   "execution_count": null,
   "metadata": {
    "id": "aB7LKAnIVA-0"
   },
   "outputs": [],
   "source": [
    "model.compile(\n",
    "              optimizer='rmsprop',\n",
    "              loss=tf.keras.losses.SparseCategoricalCrossentropy(from_logits=True),\n",
    "              metrics=['accuracy']\n",
    "                \n",
    "              \n",
    "              )"
   ]
  },
  {
   "cell_type": "code",
   "execution_count": null,
   "metadata": {
    "colab": {
     "base_uri": "https://localhost:8080/"
    },
    "id": "XChNo688Vi59",
    "outputId": "c6b5f237-94e1-4698-e1bc-78ac87a1fe6e"
   },
   "outputs": [
    {
     "name": "stdout",
     "output_type": "stream",
     "text": [
      "Epoch 1/10\n",
      "750/750 [==============================] - 6s 3ms/step - loss: 1.6067 - accuracy: 0.8769 - val_loss: 1.5381 - val_accuracy: 0.9300\n",
      "Epoch 2/10\n",
      "750/750 [==============================] - 3s 3ms/step - loss: 1.5340 - accuracy: 0.9326 - val_loss: 1.5278 - val_accuracy: 0.9385\n",
      "Epoch 3/10\n",
      "750/750 [==============================] - 2s 3ms/step - loss: 1.5184 - accuracy: 0.9463 - val_loss: 1.5186 - val_accuracy: 0.9459\n",
      "Epoch 4/10\n",
      "750/750 [==============================] - 2s 3ms/step - loss: 1.5093 - accuracy: 0.9548 - val_loss: 1.5077 - val_accuracy: 0.9553\n",
      "Epoch 5/10\n",
      "750/750 [==============================] - 2s 3ms/step - loss: 1.5028 - accuracy: 0.9605 - val_loss: 1.5054 - val_accuracy: 0.9574\n",
      "Epoch 6/10\n",
      "750/750 [==============================] - 2s 3ms/step - loss: 1.4979 - accuracy: 0.9654 - val_loss: 1.5007 - val_accuracy: 0.9617\n",
      "Epoch 7/10\n",
      "750/750 [==============================] - 2s 3ms/step - loss: 1.4943 - accuracy: 0.9686 - val_loss: 1.4971 - val_accuracy: 0.9654\n",
      "Epoch 8/10\n",
      "750/750 [==============================] - 2s 3ms/step - loss: 1.4912 - accuracy: 0.9716 - val_loss: 1.4968 - val_accuracy: 0.9652\n",
      "Epoch 9/10\n",
      "750/750 [==============================] - 3s 3ms/step - loss: 1.4888 - accuracy: 0.9737 - val_loss: 1.4953 - val_accuracy: 0.9669\n",
      "Epoch 10/10\n",
      "750/750 [==============================] - 3s 3ms/step - loss: 1.4868 - accuracy: 0.9756 - val_loss: 1.4930 - val_accuracy: 0.9691\n"
     ]
    },
    {
     "data": {
      "text/plain": [
       "<keras.callbacks.History at 0x7f58f02ec790>"
      ]
     },
     "execution_count": 9,
     "metadata": {},
     "output_type": "execute_result"
    }
   ],
   "source": [
    "model.fit(x_train, y_train, batch_size=64, epochs=10, validation_split=0.2)"
   ]
  },
  {
   "cell_type": "code",
   "execution_count": null,
   "metadata": {
    "colab": {
     "base_uri": "https://localhost:8080/"
    },
    "id": "wa-KxYo9V6jF",
    "outputId": "8deced23-4a2a-4a68-ae28-82033df1a84b"
   },
   "outputs": [
    {
     "name": "stdout",
     "output_type": "stream",
     "text": [
      "313/313 [==============================] - 1s 2ms/step - loss: 1.4936 - accuracy: 0.9687\n",
      "\n",
      "Testing loss: 1.49, acc: 0.97%\n"
     ]
    }
   ],
   "source": [
    "loss,acc=model.evaluate(x_test,y_test)\n",
    "print('\\nTesting loss: %.2f, acc: %.2f%%'%(loss, acc))"
   ]
  },
  {
   "cell_type": "markdown",
   "metadata": {
    "id": "SupvbqARpmC9"
   },
   "source": [
    "**With Convolution**"
   ]
  },
  {
   "cell_type": "code",
   "execution_count": null,
   "metadata": {
    "id": "7HZ8CSgfprVT"
   },
   "outputs": [],
   "source": [
    "import numpy as np\n",
    "import tensorflow as tf\n",
    "from tensorflow import keras\n",
    "from tensorflow.keras import layers\n",
    "import matplotlib.pyplot as plt"
   ]
  },
  {
   "cell_type": "code",
   "execution_count": null,
   "metadata": {
    "colab": {
     "base_uri": "https://localhost:8080/",
     "height": 282
    },
    "id": "12lFd6RYpz51",
    "outputId": "74ce4705-0a21-4f69-b3f9-a6630d887a0c"
   },
   "outputs": [
    {
     "data": {
      "text/plain": [
       "3"
      ]
     },
     "execution_count": 15,
     "metadata": {},
     "output_type": "execute_result"
    },
    {
     "data": {
      "image/png": "[encoded data removed]",
      "text/plain": [
       "<Figure size 432x288 with 1 Axes>"
      ]
     },
     "metadata": {
      "needs_background": "light"
     },
     "output_type": "display_data"
    }
   ],
   "source": [
    "dataset=tf.keras.datasets.mnist\n",
    "(x_train,y_train),(x_test,y_test)=dataset.load_data()\n",
    "plt.imshow(x_train[10],cmap='gray')\n",
    "y_train[10]"
   ]
  },
  {
   "cell_type": "code",
   "execution_count": null,
   "metadata": {
    "colab": {
     "base_uri": "https://localhost:8080/"
    },
    "id": "fI9FVu7sp2Yw",
    "outputId": "c458c16b-7347-4fb9-8fcf-094e7a21e17b"
   },
   "outputs": [
    {
     "name": "stdout",
     "output_type": "stream",
     "text": [
      "(60000, 28, 28)\n"
     ]
    }
   ],
   "source": [
    "x_train = x_train.astype(\"float32\") / 255\n",
    "x_test = x_test.astype(\"float32\") / 255\n",
    "y_train=tf.keras.utils.to_categorical( y_train, dtype='float32')\n",
    "y_test=tf.keras.utils.to_categorical(  y_test, dtype='float32')\n",
    "print(x_train.shape)"
   ]
  },
  {
   "cell_type": "code",
   "execution_count": null,
   "metadata": {
    "colab": {
     "base_uri": "https://localhost:8080/"
    },
    "id": "stDx8Y0cqNWc",
    "outputId": "b7019db4-5c22-4892-cddd-44e91411b2a7"
   },
   "outputs": [
    {
     "name": "stdout",
     "output_type": "stream",
     "text": [
      "Model: \"mnist_model\"\n",
      "__________________________________________________________________________________________________\n",
      " Layer (type)                   Output Shape         Param #     Connected to                     \n",
      "==================================================================================================\n",
      " input_16 (InputLayer)          [(None, 28, 28, 1)]  0           []                               \n",
      "                                                                                                  \n",
      " conv2d_23 (Conv2D)             (None, 25, 25, 32)   544         ['input_16[0][0]']               \n",
      "                                                                                                  \n",
      " conv2d_24 (Conv2D)             (None, 25, 25, 16)   272         ['input_16[0][0]']               \n",
      "                                                                                                  \n",
      " max_pooling2d_23 (MaxPooling2D  (None, 12, 12, 32)  0           ['conv2d_23[0][0]']              \n",
      " )                                                                                                \n",
      "                                                                                                  \n",
      " max_pooling2d_24 (MaxPooling2D  (None, 12, 12, 16)  0           ['conv2d_24[0][0]']              \n",
      " )                                                                                                \n",
      "                                                                                                  \n",
      " flatten_23 (Flatten)           (None, 4608)         0           ['max_pooling2d_23[0][0]']       \n",
      "                                                                                                  \n",
      " flatten_24 (Flatten)           (None, 2304)         0           ['max_pooling2d_24[0][0]']       \n",
      "                                                                                                  \n",
      " concatenate_11 (Concatenate)   (None, 6912)         0           ['flatten_23[0][0]',             \n",
      "                                                                  'flatten_24[0][0]']             \n",
      "                                                                                                  \n",
      " dense_15 (Dense)               (None, 128)          884864      ['concatenate_11[0][0]']         \n",
      "                                                                                                  \n",
      " dense_16 (Dense)               (None, 10)           1290        ['dense_15[0][0]']               \n",
      "                                                                                                  \n",
      "==================================================================================================\n",
      "Total params: 886,970\n",
      "Trainable params: 886,970\n",
      "Non-trainable params: 0\n",
      "__________________________________________________________________________________________________\n"
     ]
    }
   ],
   "source": [
    "inputs = keras.Input(shape=(28, 28, 1))\n",
    "#--------------------------------------------\n",
    "conv1=layers.Conv2D(32,kernel_size=4,activation=\"relu\")(inputs)\n",
    "maxpooling1=layers.MaxPooling2D(2)(conv1)\n",
    "flat1=layers.Flatten()(maxpooling1)\n",
    "#---------------------------------------------\n",
    "conv2=layers.Conv2D(16,kernel_size=4,activation=\"relu\")(inputs)\n",
    "maxpooling2=layers.MaxPooling2D(2)(conv2)\n",
    "flat2=layers.Flatten()(maxpooling2)\n",
    "#---------------------------------------------\n",
    "merge=tf.keras.layers.Concatenate()([flat1, flat2])\n",
    "\n",
    "#dense = layers.Dense(64, activation=\"relu\")(merge)\n",
    "x = layers.Dense(128, activation=\"relu\")(merge)\n",
    "outputs = layers.Dense(10 ,activation=\"Softmax\")(x)\n",
    "model = keras.Model(inputs=inputs, outputs=outputs, name=\"mnist_model\")\n",
    "model.summary()"
   ]
  },
  {
   "cell_type": "code",
   "execution_count": null,
   "metadata": {
    "id": "xekImo4ovSLa"
   },
   "outputs": [],
   "source": [
    "model.compile(\n",
    "              loss=\"categorical_crossentropy\",\n",
    "              optimizer=\"adam\",\n",
    "              metrics=['accuracy']\n",
    "           \n",
    "           \n",
    "              )"
   ]
  },
  {
   "cell_type": "code",
   "execution_count": null,
   "metadata": {
    "colab": {
     "base_uri": "https://localhost:8080/"
    },
    "id": "IMKF2vNxxcVB",
    "outputId": "53aa47d3-b12d-45aa-96a9-e92dc63f7bde"
   },
   "outputs": [
    {
     "name": "stdout",
     "output_type": "stream",
     "text": [
      "Epoch 1/15\n",
      "750/750 [==============================] - 12s 4ms/step - loss: 0.1607 - accuracy: 0.9535 - val_loss: 0.0716 - val_accuracy: 0.9799\n",
      "Epoch 2/15\n",
      "750/750 [==============================] - 4s 5ms/step - loss: 0.0530 - accuracy: 0.9836 - val_loss: 0.0537 - val_accuracy: 0.9843\n",
      "Epoch 3/15\n",
      "750/750 [==============================] - 3s 4ms/step - loss: 0.0340 - accuracy: 0.9892 - val_loss: 0.0566 - val_accuracy: 0.9844\n",
      "Epoch 4/15\n",
      "750/750 [==============================] - 3s 4ms/step - loss: 0.0233 - accuracy: 0.9927 - val_loss: 0.0557 - val_accuracy: 0.9831\n",
      "Epoch 5/15\n",
      "750/750 [==============================] - 3s 4ms/step - loss: 0.0173 - accuracy: 0.9945 - val_loss: 0.0516 - val_accuracy: 0.9862\n",
      "Epoch 6/15\n",
      "750/750 [==============================] - 3s 4ms/step - loss: 0.0125 - accuracy: 0.9958 - val_loss: 0.0444 - val_accuracy: 0.9883\n",
      "Epoch 7/15\n",
      "750/750 [==============================] - 3s 4ms/step - loss: 0.0100 - accuracy: 0.9966 - val_loss: 0.0642 - val_accuracy: 0.9848\n",
      "Epoch 8/15\n",
      "750/750 [==============================] - 3s 4ms/step - loss: 0.0072 - accuracy: 0.9977 - val_loss: 0.0611 - val_accuracy: 0.9859\n",
      "Epoch 9/15\n",
      "750/750 [==============================] - 3s 4ms/step - loss: 0.0070 - accuracy: 0.9979 - val_loss: 0.0769 - val_accuracy: 0.9823\n",
      "Epoch 10/15\n",
      "750/750 [==============================] - 3s 4ms/step - loss: 0.0063 - accuracy: 0.9979 - val_loss: 0.0541 - val_accuracy: 0.9865\n",
      "Epoch 11/15\n",
      "750/750 [==============================] - 3s 4ms/step - loss: 0.0051 - accuracy: 0.9985 - val_loss: 0.0590 - val_accuracy: 0.9864\n",
      "Epoch 12/15\n",
      "750/750 [==============================] - 3s 4ms/step - loss: 0.0058 - accuracy: 0.9979 - val_loss: 0.0555 - val_accuracy: 0.9873\n",
      "Epoch 13/15\n",
      "750/750 [==============================] - 3s 4ms/step - loss: 0.0031 - accuracy: 0.9989 - val_loss: 0.0587 - val_accuracy: 0.9888\n",
      "Epoch 14/15\n",
      "750/750 [==============================] - 3s 4ms/step - loss: 0.0038 - accuracy: 0.9987 - val_loss: 0.0645 - val_accuracy: 0.9869\n",
      "Epoch 15/15\n",
      "750/750 [==============================] - 3s 4ms/step - loss: 0.0033 - accuracy: 0.9990 - val_loss: 0.0641 - val_accuracy: 0.9866\n"
     ]
    },
    {
     "data": {
      "text/plain": [
       "<keras.callbacks.History at 0x7f590800f5d0>"
      ]
     },
     "execution_count": 38,
     "metadata": {},
     "output_type": "execute_result"
    }
   ],
   "source": [
    "\n",
    "model.fit(\n",
    "  x_train,y_train,epochs=15,batch_size=64,validation_split=0.2\n",
    "  )"
   ]
  },
  {
   "cell_type": "code",
   "execution_count": null,
   "metadata": {
    "colab": {
     "base_uri": "https://localhost:8080/"
    },
    "id": "njXlkxTpxTBe",
    "outputId": "0daffd7f-40f1-43e7-bae9-5bf335c9e0d2"
   },
   "outputs": [
    {
     "name": "stdout",
     "output_type": "stream",
     "text": [
      "313/313 [==============================] - 1s 3ms/step - loss: 0.0553 - accuracy: 0.9865\n",
      "\n",
      "Testing loss: 0.06, acc: 0.99%\n"
     ]
    }
   ],
   "source": [
    "loss,acc=model.evaluate(x_test,y_test)\n",
    "print('\\nTesting loss: %.2f, acc: %.2f%%'%(loss, acc))"
   ]
  }
 ],
 "metadata": {
  "accelerator": "GPU",
  "colab": {
   "provenance": []
  },
  "kernelspec": {
   "display_name": "Python 3",
   "language": "python",
   "name": "python3"
  },
  "language_info": {
   "codemirror_mode": {
    "name": "ipython",
    "version": 3
   },
   "file_extension": ".py",
   "mimetype": "text/x-python",
   "name": "python",
   "nbconvert_exporter": "python",
   "pygments_lexer": "ipython3",
   "version": "3.7.1"
  }
 },
 "nbformat": 4,
 "nbformat_minor": 1
}
